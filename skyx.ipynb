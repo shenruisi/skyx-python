{
 "cells": [
  {
   "cell_type": "code",
   "execution_count": 1,
   "metadata": {},
   "outputs": [],
   "source": [
    "from selenium.webdriver import Firefox\n",
    "from selenium.webdriver import Chrome\n",
    "from selenium.webdriver.common.by import By\n",
    "from selenium.webdriver.common.keys import Keys\n",
    "from selenium.webdriver.firefox.options import Options\n",
    "from selenium.webdriver.support import expected_conditions as expected\n",
    "from selenium.webdriver.support.wait import WebDriverWait\n",
    "from selenium.webdriver.firefox.firefox_profile import FirefoxProfile\n",
    "from IPython.display import display,Image\n",
    "\n",
    "import sys\n"
   ]
  },
  {
   "cell_type": "code",
   "execution_count": 74,
   "metadata": {},
   "outputs": [
    {
     "name": "stdout",
     "output_type": "stream",
     "text": [
      "True\n"
     ]
    }
   ],
   "source": [
    "if __name__ == \"__main__\":\n",
    "    options = Options()\n",
    "    options.add_argument('-headless')\n",
    "    #options.add_argument('cookie:CONSUMERCHOICE_SESSION=t; CONSUMERCHOICE=us/en_us; nike_locale=us/en_us; NIKE_COMMERCE_COUNTRY=US; NIKE_COMMERCE_LANG_LOCALE=en_US;')\n",
    "    driver = Firefox(executable_path='geckodriver', firefox_options=options)\n",
    "    wait = WebDriverWait(driver, timeout=60)\n",
    "    driver.get(\"https://www.nike.com/language_tunnel\");\n",
    "    #wait.until(expected.presence_of_element_located((By.CSS_SELECTOR, 'span.lang-tunnel__region-img-wrapper')))\n",
    "    #driver.find_element_by_css_selector('button[data-region=\"n-america\"]').click()\n",
    "    wait.until(expected.presence_of_element_located((By.CSS_SELECTOR, 'a.lang-tunnel__country-link.js-countryLink')))\n",
    "    wait.until(expected.presence_of_element_located((By.CSS_SELECTOR, 'button[data-region=\"n-america\"]'))).click()\n",
    "    #driver.find_element_by_css_selector('button[data-region=\"n-america\"]').click()\n",
    "    wait.until(expected.visibility_of_element_located((By.CSS_SELECTOR, 'a[data-country=\"US\"]'))).click()\n",
    "    wait.until(expected.visibility_of_element_located((By.CSS_SELECTOR, 'a.gnav-bar--section-tab')))\n",
    "    #driver.find_element_by_css_selector('div[data-region=\"n-america\"]').click()\n",
    "    #driver.get('https://www.nike.com/t/air-vapormax-flyknit-womens-running-shoe-LAPV8l/849557-605')\n",
    "    #wait.until(expected.visibility_of_element_located((By.NAME, 'q'))).send_keys('headless firefox' + Keys.ENTER)\n",
    "    #wait.until()\n",
    "    #wait.until(expected.presence_of_element_located((By.CSS_SELECTOR, 'h1.productTitle')))\n",
    "    print driver.save_screenshot(\"1.png\")\n",
    "    #print(driver.page_source)\n",
    "    driver.quit()"
   ]
  },
  {
   "cell_type": "markdown",
   "metadata": {},
   "source": [
    "\n",
    "### Keywords\n",
    "**load:** [url]`加载链接`\n",
    " \n",
    "**wait:** [map] `等待`\n",
    " * type:\n",
    "  * presence `存在元素`\n",
    "  * visibility `可视元素`\n",
    "  * time `时间`\n",
    " * ele:\n",
    "  * [css selector](https://www.w3schools.com/cssref/css_selectors.asp) `选取单个元素`\n",
    " * eles:\n",
    "  * [css selector](https://www.w3schools.com/cssref/css_selectors.asp) `选取多个元素`\n",
    " * millis:\n",
    "  * 1000 `毫秒数`\n",
    "  \n",
    "**loop:** `循环`\n",
    " * 内置元素 \\$e`迭代元素` \\$i`迭代下标`\n",
    " * **in:** [map] `元素集合`\n",
    "  * eles\n",
    " * **each:** `循环操作`\n",
    " \n",
    "**click:** [map] [\\$e] `点击元素`\n",
    " * ele\n",
    "  \n",
    "**select** [map] `选取元素文本写入path`\n",
    " * ele\n",
    " * path:\n",
    "  * /product/sku[]/price\n",
    " * attr:\n",
    "     * `属性值`\n",
    " * regex:\n",
    "     * `正则表达式`\n",
    "\n",
    "**if:** [expression]\n",
    " * **then:**\n",
    " * **elif:** [expression]\n",
    "  * **then:**\n",
    " * **else:**\n",
    " \n",
    "**put:** `设值`\n",
    " * **path** \n",
    " * **value**\n",
    " \n",
    "**append** `追加值`\n",
    " * **path** \n",
    " * **value**\n",
    " \n",
    "**back:** `回退`\n",
    " \n",
    "**fill:** `填充`\n",
    " * **ele**\n",
    " * **value**\n"
   ]
  },
  {
   "cell_type": "code",
   "execution_count": 96,
   "metadata": {},
   "outputs": [
    {
     "name": "stdout",
     "output_type": "stream",
     "text": [
      "[{'load': 'http://www.perfumesclub.cn/1001910.html'}, {'wait': {'type': 'presence', 'ele': 'h1.fn.title-name'}}, {'select': {'path': '/product/title', 'ele': 'h1.fn.title-name'}}, {'loop': {'in': {'eles': 'ul.property-list.clearfix > li'}, 'each': [{'click': '$e'}]}}]\n"
     ]
    }
   ],
   "source": [
    "import yaml\n",
    "_Config = \"\"\"\n",
    "- load: http://www.perfumesclub.cn/1001910.html\n",
    "- wait: {type: presence,ele: h1.fn.title-name}  \n",
    "- select: {ele: h1.fn.title-name, path: /product/title}     \n",
    "- loop:\n",
    "    in: {eles: \"ul.property-list.clearfix > li\"}\n",
    "    each:\n",
    "        - click: $e\n",
    "\"\"\"\n",
    "\n",
    "# - select: {ele: a.product-brand, path: /product/brand, regex: '/(.*)\\\\.html'}\n",
    "# - select: {ele: 'div.tab-content > p:nth-child(1)', path: /product/desc}\n",
    "# - select: {ele: 'div.tab-content > p:nth-child(2)', append: /product/desc}\n",
    "# - loop: \n",
    "#     in: {eles: \"div[data-attr='color'] > a\"} \n",
    "#     each:\n",
    "#     - click: $e\n",
    "#     - wait: {type: time,millis: 500}\n",
    "#     - select: {ele: div.price > span.sales, path: /tmp/price} \n",
    "#     - select: {ele: button.add-to-cart}\n",
    "#     - if: $1==\"SOLD OUT\"\n",
    "#     - then:\n",
    "#         - set: {path: /tmp/store, value: 0}\n",
    "#     - else:\n",
    "#         - set: {path: /tmp/store, value: 100}\n",
    "#     - put: {path: \"/product/sku[]\", value: $(/tmp)}\n",
    "\n",
    "\n",
    "INPUT = yaml.load(_Config)\n",
    "print INPUT"
   ]
  },
  {
   "cell_type": "markdown",
   "metadata": {},
   "source": [
    "### Expression\n"
   ]
  },
  {
   "cell_type": "code",
   "execution_count": 85,
   "metadata": {},
   "outputs": [
    {
     "name": "stdout",
     "output_type": "stream",
     "text": [
      "6\n"
     ]
    }
   ],
   "source": [
    "from ctypes import *\n",
    "libast = cdll.LoadLibrary(\"./libcondast.so\")\n",
    "\n",
    "class Exp:\n",
    "    LIB_AST = None\n",
    "    FUNC_P = None\n",
    "    \n",
    "    @staticmethod\n",
    "    def install(lib):\n",
    "        Exp.LIB_AST = lib\n",
    "        Exp.FUNC_P = lib.calc_exp\n",
    "        Exp.FUNC_P.restype = c_double\n",
    "    \n",
    "    @staticmethod\n",
    "    def calc(exp):\n",
    "        r = Exp.FUNC_P(exp)\n",
    "        if str(r).split(\".\")[1] == \"0\":\n",
    "            r = int(r)\n",
    "        return r\n",
    "\n",
    "Exp.install(libast)\n",
    "print Exp.calc(\"1+2+3\")\n"
   ]
  },
  {
   "cell_type": "markdown",
   "metadata": {},
   "source": [
    "### Path\n"
   ]
  },
  {
   "cell_type": "code",
   "execution_count": 55,
   "metadata": {},
   "outputs": [],
   "source": [
    "import re\n",
    "import types\n",
    "class PathQuery:\n",
    "    def __init__(self):\n",
    "        self.type = None\n",
    "        self.key = None\n",
    "        self.next = None\n",
    "        self.it_exp = None\n",
    "        self.end = False\n",
    "        self.list_all = False\n",
    "        \n",
    "    def desc(self):\n",
    "        t = self\n",
    "        s = \"\"\n",
    "        while t != None:\n",
    "            s+= \"type=\"+t.type+\"&key=\"+t.key+\" \"\n",
    "            t = t.next\n",
    "        return s\n",
    "        \n",
    "class Path:\n",
    "    ROOT={}\n",
    "    _PATH_VAR_MAP = {\"/\":ROOT}\n",
    "    INNER_VAR_PREFIX = \"__\"\n",
    "    @staticmethod\n",
    "    def set_value(path,value):\n",
    "        Path.set_value_by_query(Path.new_query(path),value)\n",
    "        \n",
    "    @staticmethod\n",
    "    def get_value(path):\n",
    "        return Path.get_value_by_query(Path.new_query(path))\n",
    "    \n",
    "    @staticmethod\n",
    "    def set_value_by_query(query,value):\n",
    "        cur_var = Path._PATH_VAR_MAP\n",
    "        q = query\n",
    "        while q != None:\n",
    "            if q.end:\n",
    "                if q.type == \"list\":\n",
    "                    if q.it_exp == \"\":\n",
    "                        if q.list_all:\n",
    "                            if type(value) is not types.ListType:\n",
    "                                raise ValueError(\"The type of value should be `List`.\")\n",
    "                            cur_var[q.key] = value\n",
    "                        else:\n",
    "                            cur_var[q.key].append(value)\n",
    "                    else:\n",
    "                        cur_var[q.key][Exp.calc(q.it_exp)] = value\n",
    "                elif q.type == \"map\":\n",
    "                    if type(value) is not types.DictType:\n",
    "                        raise ValueError(\"The type of value should be `Dict`.\")\n",
    "                    cur_var[q.key] = value\n",
    "                else:\n",
    "                    if type(value) is types.ListType or type(value) is types.DictType:\n",
    "                        raise ValueError(\"Can not set the value of type `Dict` or `List` to node.\")\n",
    "                    cur_var[q.key] = value\n",
    "            else:\n",
    "                if q.type == \"list\":\n",
    "                    if q.key not in cur_var:\n",
    "                        cur_var[q.key] = []\n",
    "                    if q.it_exp == \"\":\n",
    "                        cur_var = cur_var[q.key][-1]\n",
    "                    else:\n",
    "                        cur_var = cur_var[q.key][Exp.calc(q.it_exp)]\n",
    "                else:\n",
    "                    if q.key not in cur_var:\n",
    "                        cur_var[q.key] = {}\n",
    "                    cur_var = cur_var[q.key]\n",
    "            q = q.next\n",
    "    \n",
    "    @staticmethod\n",
    "    def get_value_by_query(query):\n",
    "        cur_var = Path._PATH_VAR_MAP\n",
    "        q = query\n",
    "        while q != None:\n",
    "            if q.end:\n",
    "                if q.it_exp != \"\" and q.it_exp != None:\n",
    "                    return cur_var[q.key][Exp.calc(q.it_exp)]\n",
    "                else:\n",
    "                    return cur_var[q.key]\n",
    "            else:\n",
    "                if q.type == \"list\":\n",
    "                    if q.it_exp == \"\":\n",
    "                        cur_var = cur_var[q.key][-1]\n",
    "                    else:\n",
    "                        cur_var = cur_var[q.key][Exp.calc(q.it_exp)]\n",
    "                else:\n",
    "                    cur_var = cur_var[q.key]\n",
    "            q = q.next\n",
    "        \n",
    "    @staticmethod\n",
    "    def new_query(path):\n",
    "        l = 1\n",
    "        p_len = len(path)\n",
    "        if p_len < l:\n",
    "            return None\n",
    "        \n",
    "        p = re.compile(r'.*\\[(.*)\\]')\n",
    "        pq = PathQuery()\n",
    "        builder = \"\"\n",
    "        for c in path:\n",
    "            builder += c\n",
    "            if c == '/':\n",
    "                if builder == \"/\":\n",
    "                    pq.type = \"root\"\n",
    "                    pq.key = \"//\"\n",
    "                else:\n",
    "                    m = p.match(builder)\n",
    "                    if m == None:\n",
    "                        pq.type = \"map\"\n",
    "                        pq.key = builder\n",
    "                    else:\n",
    "                        pq.type = \"list\"\n",
    "                        pq.it_exp = m.group(1)\n",
    "                        if pq.it_exp == \"\":\n",
    "                            pq.key = builder.replace('[]','')\n",
    "                        else:\n",
    "                            pq.key = builder.replace('['+m.group(1)+']','')\n",
    "                pq.key = pq.key[0:len(pq.key)-1] #remove the last '/'\n",
    "                pq.next = Path.new_query(path[l:p_len])\n",
    "                if pq.next == None:\n",
    "                    if pq.type == \"list\":\n",
    "                        pq.list_all = True\n",
    "                    pq.end = True\n",
    "                return pq\n",
    "            elif l == len(path):\n",
    "                m = p.match(builder)\n",
    "                if m == None:\n",
    "                    pq.type = \"node\"\n",
    "                    pq.key = builder\n",
    "                else:\n",
    "                    pq.type = \"list\"\n",
    "                    pq.it_exp = m.group(1)\n",
    "                    if pq.it_exp == \"\":\n",
    "                        pq.key = builder.replace('[]','')\n",
    "                    else:\n",
    "                        pq.key = builder.replace('['+m.group(1)+']','')\n",
    "                pq.end = True\n",
    "                pq.next = Path.new_query(\"\")\n",
    "                return pq\n",
    "            l+=1"
   ]
  },
  {
   "cell_type": "markdown",
   "metadata": {},
   "source": [
    "### Usage Of Path\n",
    "#### 设置读取属性值"
   ]
  },
  {
   "cell_type": "code",
   "execution_count": 3,
   "metadata": {},
   "outputs": [
    {
     "name": "stdout",
     "output_type": "stream",
     "text": [
      "100\n"
     ]
    }
   ],
   "source": [
    "Path.set_value(\"/node\",100)\n",
    "print Path.get_value(\"/node\")"
   ]
  },
  {
   "cell_type": "markdown",
   "metadata": {},
   "source": [
    "#### 设置读取字典"
   ]
  },
  {
   "cell_type": "code",
   "execution_count": 88,
   "metadata": {},
   "outputs": [
    {
     "name": "stdout",
     "output_type": "stream",
     "text": [
      "{'p2': 2, 'p1': 1}\n",
      "{'p2': 2, 'p3': 3, 'p1': 1}\n",
      "3\n"
     ]
    }
   ],
   "source": [
    "Path.set_value(\"/map/\",{\"p1\":1,\"p2\":2})\n",
    "#如果设置map字典值已经设置，\"/map/\" 或者 “/map” 都将读取该字典的值\n",
    "print Path.get_value(\"/map/\")  \n",
    "#字典追加\n",
    "Path.set_value(\"/map/p3\",3)\n",
    "print Path.get_value(\"/map/\")\n",
    "print Path.get_value(\"/map/p3\")"
   ]
  },
  {
   "cell_type": "markdown",
   "metadata": {},
   "source": [
    "#### 设置读取数组"
   ]
  },
  {
   "cell_type": "code",
   "execution_count": 5,
   "metadata": {},
   "outputs": [
    {
     "name": "stdout",
     "output_type": "stream",
     "text": [
      "[1, 2]\n",
      "[1, 2, 3]\n",
      "3\n",
      "1\n",
      "2\n"
     ]
    }
   ],
   "source": [
    "Path.set_value(\"/list[]/\",[1,2])\n",
    "print Path.get_value(\"/list[]/\")\n",
    "#数组追加\n",
    "Path.set_value(\"/list[]\",3)\n",
    "print Path.get_value(\"/list[]/\")\n",
    "#数组访问\n",
    "print Path.get_value(\"/list[-1]\") #末尾元素\n",
    "print Path.get_value(\"/list[0]\") \n",
    "print Path.get_value(\"/list[0+1]\") #表达式"
   ]
  },
  {
   "cell_type": "markdown",
   "metadata": {},
   "source": [
    "### Var"
   ]
  },
  {
   "cell_type": "code",
   "execution_count": 74,
   "metadata": {},
   "outputs": [],
   "source": [
    "class Var:\n",
    "    def __init__(self,s):\n",
    "        if s[0] ==\"L\":\n",
    "            self.func = \"L\"\n",
    "            self.value = s[1:]\n",
    "        else:\n",
    "            self.func = \"\"\n",
    "            self.value = s\n",
    "    \n",
    "    def eval(self):\n",
    "        if self.value == \"e\" or self.value == \"i\":\n",
    "            return Path.get_value(\"/\"+Path.INNER_VAR_PREFIX+self.value)\n",
    "        else:\n",
    "            v = Path.get_value(self.value)\n",
    "            if self.func == \"L\":\n",
    "                return str(len(v))\n",
    "            return str(v)"
   ]
  },
  {
   "cell_type": "markdown",
   "metadata": {},
   "source": [
    "### Variable Picker"
   ]
  },
  {
   "cell_type": "code",
   "execution_count": 90,
   "metadata": {},
   "outputs": [
    {
     "name": "stdout",
     "output_type": "stream",
     "text": [
      "2\n"
     ]
    }
   ],
   "source": [
    "class VarPicker:\n",
    "    STAT_SCAN = 0\n",
    "    STAT_DOLLAR = 1\n",
    "    @staticmethod\n",
    "    def scan(s):\n",
    "        stat = VarPicker.STAT_SCAN\n",
    "        cap = \"\"\n",
    "        r = str(s)\n",
    "        for i in range(0,len(s)):\n",
    "            c = s[i]\n",
    "            if stat == VarPicker.STAT_SCAN:\n",
    "                if c == \"$\":\n",
    "                    stat = VarPicker.STAT_DOLLAR\n",
    "            elif stat == VarPicker.STAT_DOLLAR:\n",
    "                if c >= \"0\" and c <=\"9\" or c>=\"a\" and c <\"z\" or c>=\"A\" and c<=\"Z\" or c ==\"/\" or c==\"[\" or c==\"]\":\n",
    "                    cap += c\n",
    "                else:\n",
    "                    r = r.replace(\"$\"+cap,Var(cap).eval(),1)\n",
    "                    cap = \"\"\n",
    "                    stat = VarPicker.STAT_SCAN\n",
    "\n",
    "        if stat == VarPicker.STAT_DOLLAR: #/test\n",
    "            r = r.replace(\"$\" + cap, Var(cap).eval(),1)\n",
    "        return r\n",
    "\n",
    "# Path.set_value(\"/__e\",123)\n",
    "# print VarPicker.scan(\"$e\")\n",
    "Path.set_value(\"/test\",\"10\")\n",
    "#put: {path:\"/a\",value:\"$/b\"}\n",
    "print VarPicker.scan(\"$L/test\")"
   ]
  },
  {
   "cell_type": "markdown",
   "metadata": {},
   "source": [
    "### GAtom Super Class"
   ]
  },
  {
   "cell_type": "code",
   "execution_count": 6,
   "metadata": {},
   "outputs": [],
   "source": [
    "class GAtom:\n",
    "    snapshot_icr = 0\n",
    "    def __init__(self,token,wk=None):\n",
    "        self.token = token\n",
    "        self.wk = wk\n",
    "        self.MAP = {}\n",
    "        \n",
    "    def snapshot(self):\n",
    "        file_name = \"snapshot\"+str(GAtom.snapshot_icr)+\".png\"\n",
    "        GAtom.snapshot_icr+=1\n",
    "        self.wk.driver.save_screenshot(file_name)\n",
    "        display(Image(file_name))\n",
    "        \n",
    "    def path_setter(self,path,value):\n",
    "        Path.set_value(path,value)\n",
    "    \n",
    "    def path_getter(self,path):\n",
    "        return Path.get_value(path)"
   ]
  },
  {
   "cell_type": "markdown",
   "metadata": {},
   "source": [
    "### Load"
   ]
  },
  {
   "cell_type": "code",
   "execution_count": 94,
   "metadata": {},
   "outputs": [
    {
     "name": "stdout",
     "output_type": "stream",
     "text": [
      "load:http://www.coach.com/coach-swagger-27/12117.html?dwvar_color=DKLIQ\n"
     ]
    }
   ],
   "source": [
    "class Load(GAtom,object):\n",
    "    def __init__(self,url,wk=None):\n",
    "        super(Load,self).__init__(\"load\",wk)\n",
    "        self.url = url\n",
    "        \n",
    "    def action(self):\n",
    "        print \"load...\"\n",
    "        self.wk.driver.get(self.url)\n",
    "        #super(Load,self).snapshot()\n",
    "        \n",
    "\n",
    "l = Load(\"http://www.coach.com/coach-swagger-27/12117.html?dwvar_color=DKLIQ\")\n",
    "print l.token+\":\"+l.url"
   ]
  },
  {
   "cell_type": "markdown",
   "metadata": {},
   "source": [
    "### Wait"
   ]
  },
  {
   "cell_type": "code",
   "execution_count": 8,
   "metadata": {},
   "outputs": [
    {
     "name": "stdout",
     "output_type": "stream",
     "text": [
      "wait:ele->div.price,type->presence,millis->none\n"
     ]
    }
   ],
   "source": [
    "class Wait(GAtom,object):\n",
    "    def __init__(self,dict,wk=None):\n",
    "        super(Wait,self).__init__(\"wait\",wk)\n",
    "        if \"ele\" not in dict:\n",
    "            raise AttributeError(\"token[\"+self.token+\"] must have `ele` attr.\")\n",
    "        self.ele = dict[\"ele\"]\n",
    "        \n",
    "        if \"type\" not in dict:\n",
    "            raise AttributeError(\"token[\"+self.token+\"] must have `type` attr.\")\n",
    "        self.type = dict[\"type\"]\n",
    "        \n",
    "        self.millis = \"none\"\n",
    "        if \"millis\" in dict:\n",
    "            self.millis = dict[\"millis\"]\n",
    "        \n",
    "            \n",
    "    def action(self):\n",
    "        print \"wait...\"\n",
    "        if type == \"presence\":\n",
    "            self.wk.wait.until(expected.presence_of_element_located((By.CSS_SELECTOR, self.ele)))\n",
    "\n",
    "w = Wait({'type': 'presence', 'ele': 'div.price'})\n",
    "print w.token+\":\"+\"ele->\"+w.ele+\",type->\"+w.type+\",millis->\"+w.millis"
   ]
  },
  {
   "cell_type": "markdown",
   "metadata": {},
   "source": [
    "### Select"
   ]
  },
  {
   "cell_type": "code",
   "execution_count": 9,
   "metadata": {},
   "outputs": [
    {
     "name": "stdout",
     "output_type": "stream",
     "text": [
      "select:path->/product/title,ele->h.product-name-desc,attr->none\n"
     ]
    }
   ],
   "source": [
    "class Select(GAtom,object):\n",
    "    def __init__(self,dict,wk=None):\n",
    "        super(Select,self).__init__(\"select\",wk)\n",
    "        if \"ele\" not in dict:\n",
    "            raise AttributeError(\"token[\"+self.token+\"] must have `ele` attr.\")\n",
    "        self.ele = dict[\"ele\"]\n",
    "        \n",
    "        self.path = \"none\"\n",
    "        if \"path\" in dict:\n",
    "            self.path = dict[\"path\"]\n",
    "        \n",
    "        self.append = \"none\"\n",
    "        if \"append\" in dict:\n",
    "            self.append = dict[\"append\"]\n",
    "        \n",
    "        self.attr = \"none\"\n",
    "        if \"attr\" in dict:\n",
    "            self.attr = dict[\"attr\"]\n",
    "            \n",
    "    def action(self):\n",
    "        print \"select...\"\n",
    "        Path.set_value(self.path,self.wk.driver.find_element_by_css_selector(self.ele).text)\n",
    "        \n",
    "        \n",
    "s = Select({'path': '/product/title', 'ele': 'h.product-name-desc'})\n",
    "print s.token+\":\"+\"path->\"+s.path+\",ele->\"+s.ele+\",attr->\"+s.attr"
   ]
  },
  {
   "cell_type": "markdown",
   "metadata": {},
   "source": [
    "### Click"
   ]
  },
  {
   "cell_type": "code",
   "execution_count": 80,
   "metadata": {},
   "outputs": [],
   "source": [
    "class Click(GAtom,object):\n",
    "    def __init__(self,dict,wk=None):\n",
    "        super(Click,self).__init__(\"click\",wk)\n",
    "        \n",
    "    def action(self):\n",
    "        Path.get_value(\"/\"+Path.INNER_VAR_PREFIX+\"e\").click()\n",
    "        super(Click,self).snapshot()\n",
    "        print self.wk.driver.current_url"
   ]
  },
  {
   "cell_type": "markdown",
   "metadata": {},
   "source": [
    "### Loop"
   ]
  },
  {
   "cell_type": "code",
   "execution_count": 63,
   "metadata": {},
   "outputs": [],
   "source": [
    "class Loop(GAtom,object):\n",
    "    def __init__(self,dict,wk=None):\n",
    "        super(Loop,self).__init__(\"loop\",wk)\n",
    "        \n",
    "        if \"in\" not in dict:\n",
    "            raise AttributeError(\"token[\"+self.token+\"] must have `in` attr.\")\n",
    "        self.eles = dict[\"in\"][\"eles\"]\n",
    "        \n",
    "        if \"each\" not in dict:\n",
    "            raise AttributeError(\"token[\"+self.token+\"] must have `each` attr.\")\n",
    "        self.each = dict[\"each\"]\n",
    "        \n",
    "        self.cmds = []\n",
    "        for atom in self.each:\n",
    "            if \"wait\" in atom:\n",
    "                self.cmds.append(Wait(atom[\"wait\"],wk))\n",
    "            if \"select\" in atom:\n",
    "                self.cmds.append(Select(atom[\"select\"],wk))\n",
    "            if \"click\" in atom:\n",
    "                self.cmds.append(Click(atom[\"click\"],wk))\n",
    "        \n",
    "    def action(self):\n",
    "        print \"loop...\"\n",
    "        s_eles = self.wk.driver.find_elements_by_css_selector(self.eles)\n",
    "        print self.eles\n",
    "        print s_eles\n",
    "        for i in range(0,len(s_eles)):\n",
    "            s_ele = s_eles[i]\n",
    "            Path.set_value(\"/\"+Path.INNER_VAR_PREFIX+\"e\",s_ele)\n",
    "            Path.set_value(\"/\"+Path.INNER_VAR_PREFIX+\"i\",i)\n",
    "            for cmd in self.cmds:\n",
    "                print cmd\n",
    "                cmd.action()\n",
    "             \n",
    "            "
   ]
  },
  {
   "cell_type": "markdown",
   "metadata": {},
   "source": [
    "### VM"
   ]
  },
  {
   "cell_type": "code",
   "execution_count": 95,
   "metadata": {},
   "outputs": [
    {
     "name": "stdout",
     "output_type": "stream",
     "text": [
      "load...\n",
      "wait...\n",
      "select...\n",
      "ARTDECO 雅蔻 完美颜色口红 4g #18 innocent kiss\n"
     ]
    }
   ],
   "source": [
    "# coding: utf-8  \n",
    "from selenium.webdriver import Firefox\n",
    "from selenium.webdriver import Chrome\n",
    "from selenium.webdriver.common.by import By\n",
    "from selenium.webdriver.common.keys import Keys\n",
    "from selenium.webdriver.firefox.options import Options\n",
    "from selenium.webdriver.support import expected_conditions as expected\n",
    "from selenium.webdriver.support.wait import WebDriverWait\n",
    "from selenium.webdriver.firefox.firefox_profile import FirefoxProfile\n",
    "from IPython.display import display,Image\n",
    "\n",
    "options = Options()\n",
    "options.add_argument('-headless')\n",
    "profile = FirefoxProfile()\n",
    "#profile.set_preference('permissions.default.stylesheet', 2)\n",
    "profile.set_preference('permissions.default.image', 2)\n",
    "profile.set_preference('dom.ipc.plugins.enabled.libflashplayer.so', 'false')\n",
    "driver = Firefox(executable_path='geckodriver', firefox_options=options,firefox_profile=profile)\n",
    "#driver = Chrome(executable_path='chromedriver', )\n",
    "\n",
    "class WebKernel:\n",
    "    def __init__(self,driver):\n",
    "        self.driver = driver\n",
    "        self.wait = WebDriverWait(driver, timeout=60)\n",
    "        \n",
    "wk = WebKernel(driver)\n",
    "        \n",
    "\n",
    "def vm(arr):\n",
    "    cmds=[]\n",
    "    for atom in arr:\n",
    "        if \"load\" in atom:\n",
    "            cmds.append(Load(atom[\"load\"],wk))\n",
    "        if \"wait\" in atom:\n",
    "            cmds.append(Wait(atom[\"wait\"],wk))\n",
    "        if \"select\" in atom:\n",
    "            cmds.append(Select(atom[\"select\"],wk))\n",
    "#         if \"loop\" in atom:\n",
    "#             cmds.append(Loop(atom[\"loop\"],wk))\n",
    "    return cmds\n",
    "\n",
    "\n",
    "cmds = vm(INPUT)\n",
    "\n",
    "def exe(cmds):\n",
    "    for cmd in cmds:\n",
    "        cmd.action()\n",
    "\n",
    "exe(cmds)\n",
    "print Path.get_value(\"/product/title\")"
   ]
  },
  {
   "cell_type": "code",
   "execution_count": null,
   "metadata": {},
   "outputs": [],
   "source": []
  }
 ],
 "metadata": {
  "kernelspec": {
   "display_name": "Python 2",
   "language": "python",
   "name": "python2"
  },
  "language_info": {
   "codemirror_mode": {
    "name": "ipython",
    "version": 2
   },
   "file_extension": ".py",
   "mimetype": "text/x-python",
   "name": "python",
   "nbconvert_exporter": "python",
   "pygments_lexer": "ipython2",
   "version": "2.7.13"
  }
 },
 "nbformat": 4,
 "nbformat_minor": 2
}
